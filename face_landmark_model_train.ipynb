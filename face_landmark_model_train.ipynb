{
  "nbformat": 4,
  "nbformat_minor": 0,
  "metadata": {
    "colab": {
      "name": "face-landmark-model-train.ipynb",
      "provenance": [],
      "authorship_tag": "ABX9TyOo9piX4BapkeczMpcP0vrz",
      "include_colab_link": true
    },
    "kernelspec": {
      "name": "python3",
      "display_name": "Python 3"
    },
    "language_info": {
      "name": "python"
    }
  },
  "cells": [
    {
      "cell_type": "markdown",
      "metadata": {
        "id": "view-in-github",
        "colab_type": "text"
      },
      "source": [
        "<a href=\"https://colab.research.google.com/github/Karthick47v2/mock-buddy/blob/main/face_landmark_model_train.ipynb\" target=\"_parent\"><img src=\"https://colab.research.google.com/assets/colab-badge.svg\" alt=\"Open In Colab\"/></a>"
      ]
    },
    {
      "cell_type": "code",
      "execution_count": null,
      "metadata": {
        "id": "S0G29V62A0F-"
      },
      "outputs": [],
      "source": [
        "from google.colab import drive\n",
        "drive.mount('/content/gdrive')"
      ]
    },
    {
      "cell_type": "code",
      "source": [
        "import numpy as np\n",
        "import matplotlib.pyplot as plt\n",
        "import tensorflow\n",
        "from tensorflow import keras"
      ],
      "metadata": {
        "id": "7SaYdrGEB1P4"
      },
      "execution_count": 2,
      "outputs": []
    },
    {
      "cell_type": "code",
      "source": [
        "y_train = np.load('/content/gdrive/MyDrive/data-v/y_train.npy')\n",
        "frames = np.load('/content/gdrive/MyDrive/data-v/frames.npy')"
      ],
      "metadata": {
        "id": "3oGKxFEpBIzC"
      },
      "execution_count": 3,
      "outputs": []
    },
    {
      "cell_type": "code",
      "source": [
        "img_size = 192"
      ],
      "metadata": {
        "id": "NsUHRhTXCz7U"
      },
      "execution_count": 4,
      "outputs": []
    },
    {
      "cell_type": "code",
      "source": [
        "model = keras.models.Sequential()\n",
        "mn_v2 = keras.applications.MobileNetV2(input_shape=(90,90,3), include_top=False, weights='imagenet')"
      ],
      "metadata": {
        "id": "SzeOlLLZWq3q",
        "outputId": "f5eaf54f-a0b9-47bf-d4ee-3b0904f4b0c0",
        "colab": {
          "base_uri": "https://localhost:8080/"
        }
      },
      "execution_count": 7,
      "outputs": [
        {
          "output_type": "stream",
          "name": "stdout",
          "text": [
            "WARNING:tensorflow:`input_shape` is undefined or non-square, or `rows` is not in [96, 128, 160, 192, 224]. Weights for input shape (224, 224) will be loaded as the default.\n",
            "Downloading data from https://storage.googleapis.com/tensorflow/keras-applications/mobilenet_v2/mobilenet_v2_weights_tf_dim_ordering_tf_kernels_1.0_224_no_top.h5\n",
            "9412608/9406464 [==============================] - 0s 0us/step\n",
            "9420800/9406464 [==============================] - 0s 0us/step\n"
          ]
        }
      ]
    },
    {
      "cell_type": "code",
      "source": [
        "# model_layers=[\n",
        "#     keras.layers.Conv2D( 256, input_shape=( img_size , img_size , 3 ) , kernel_size=( 5 , 5 ) , strides=1 , activation='relu',name=\"input_layer\"),\n",
        "#     keras.layers.Conv2D( 256 , kernel_size=( 5 , 5 ) , strides=1 , activation='relu' ),\n",
        "#     keras.layers.BatchNormalization(),\n",
        "#     keras.layers.Dropout(0.3),\n",
        "    \n",
        "#     keras.layers.Conv2D( 256, kernel_size=( 5 , 5 ) , strides=1 , activation='relu' ),\n",
        "#     keras.layers.Conv2D( 256, kernel_size=( 5 , 5 ) , strides=1 , activation='relu' ),\n",
        "#     keras.layers.BatchNormalization(),\n",
        "#     keras.layers.Dropout(0.3),\n",
        "    \n",
        "#     keras.layers.Conv2D( 200, kernel_size=( 5 , 5 ) , strides=2 , activation='relu'),\n",
        "#     keras.layers.Conv2D( 200 , kernel_size=( 5 , 5 ) , strides= 1, activation='relu'),\n",
        "#     keras.layers.BatchNormalization(),\n",
        "#     keras.layers.Dropout(0.3),\n",
        "    \n",
        "#     keras.layers.Conv2D( 200, kernel_size=( 5 , 5 ) , strides=1 , activation='relu'),\n",
        "#     keras.layers.Conv2D( 200 , kernel_size=( 5 , 5 ) , strides=1 , activation='relu' ),\n",
        "#     keras.layers.BatchNormalization(),\n",
        "#     keras.layers.Dropout(0.3),\n",
        "    \n",
        "#     keras.layers.Conv2D( 170, kernel_size=( 3 , 3 ) , strides=1 , activation='relu' ),\n",
        "#     keras.layers.Conv2D( 170, kernel_size=( 3 , 3 ) , strides=1 , activation='relu' ),\n",
        "#     keras.layers.BatchNormalization(),\n",
        "#     keras.layers.Dropout(0.3),\n",
        "    \n",
        "#     keras.layers.Conv2D( 136, kernel_size=( 3 , 3 ) , strides=1 , activation='relu'),\n",
        "#     keras.layers.Conv2D( 136, kernel_size=( 3 , 3 ) , strides=2 , activation='relu'),\n",
        "#     keras.layers.BatchNormalization(),\n",
        "#     keras.layers.Dropout(0.3),\n",
        "    \n",
        "#     keras.layers.Conv2D( 136, kernel_size=( 3 , 3 ) , strides=2 , activation='relu'),\n",
        "#     keras.layers.Conv2D( 136 , kernel_size=( 3 , 3 ) , strides=1 , activation='sigmoid'),\n",
        "\n",
        "    \n",
        "# ]\n",
        "# model=keras.Sequential(model_layers)\n",
        "# model.compile( loss= keras.losses.mean_squared_error , optimizer= keras.optimizers.Adam( lr=0.001 ) )\n",
        "# model.summary()"
      ],
      "metadata": {
        "id": "CqMG0XoQCEi0"
      },
      "execution_count": null,
      "outputs": []
    },
    {
      "cell_type": "code",
      "source": [
        "train = model.fit(frames, y_train, epochs=3, batch_size=32, verbose=2)"
      ],
      "metadata": {
        "id": "Wl1k1f88Cxyo"
      },
      "execution_count": null,
      "outputs": []
    },
    {
      "cell_type": "code",
      "source": [
        "model.save('/content/gdrive/MyDrive/data-v/mymodel')"
      ],
      "metadata": {
        "id": "Rjg6ivj4C6bv"
      },
      "execution_count": null,
      "outputs": []
    },
    {
      "cell_type": "code",
      "source": [
        "model = keras.models.load_model('/content/gdrive/MyDrive/data-v/mymodel')"
      ],
      "metadata": {
        "id": "EKTFFejlORNT"
      },
      "execution_count": null,
      "outputs": []
    },
    {
      "cell_type": "code",
      "source": [
        "test_frames = np.load('/content/gdrive/MyDrive/data-v/test_frames.npy')\n",
        "test_bbox = np.load('/content/gdrive/MyDrive/data-v/test_bbox.npy')"
      ],
      "metadata": {
        "id": "vSysxpLW8Ok1"
      },
      "execution_count": null,
      "outputs": []
    },
    {
      "cell_type": "code",
      "source": [
        "fig, arr = plt.subplots(6,5,figsize=(20,20))\n",
        "\n",
        "for i in range(1, 30):\n",
        "  r = i // 5\n",
        "  c = i % 5\n",
        "\n",
        "  sam = test_frames[i]\n",
        "  pred = model.predict( test_frames[ i : i +1  ] ) \n",
        "  x=np.reshape(pred[:,:,:,np.arange(0,136,2)],(68))*img_size\n",
        "  y=np.reshape(pred[:,:,:,np.arange(1,136,2)],(68))*img_size\n",
        "  arr[r][c].imshow(sam)\n",
        "  arr[r][c].scatter( x,y, c='yellow',s=6)"
      ],
      "metadata": {
        "id": "O5QFbVIXPLnZ"
      },
      "execution_count": null,
      "outputs": []
    }
  ]
}