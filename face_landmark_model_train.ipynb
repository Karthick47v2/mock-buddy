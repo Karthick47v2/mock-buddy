{
  "nbformat": 4,
  "nbformat_minor": 0,
  "metadata": {
    "colab": {
      "name": "face-landmark-model-train.ipynb",
      "provenance": [],
      "authorship_tag": "ABX9TyOOo7SeMmcRUvz443inVKeQ",
      "include_colab_link": true
    },
    "kernelspec": {
      "name": "python3",
      "display_name": "Python 3"
    },
    "language_info": {
      "name": "python"
    },
    "accelerator": "GPU"
  },
  "cells": [
    {
      "cell_type": "markdown",
      "metadata": {
        "id": "view-in-github",
        "colab_type": "text"
      },
      "source": [
        "<a href=\"https://colab.research.google.com/github/Karthick47v2/mock-buddy/blob/main/face_landmark_model_train.ipynb\" target=\"_parent\"><img src=\"https://colab.research.google.com/assets/colab-badge.svg\" alt=\"Open In Colab\"/></a>"
      ]
    },
    {
      "cell_type": "code",
      "execution_count": 1,
      "metadata": {
        "colab": {
          "base_uri": "https://localhost:8080/"
        },
        "id": "S0G29V62A0F-",
        "outputId": "588f0ee2-4422-499f-cb9a-ce7609639ab9"
      },
      "outputs": [
        {
          "output_type": "stream",
          "name": "stdout",
          "text": [
            "Mounted at /content/gdrive\n"
          ]
        }
      ],
      "source": [
        "from google.colab import drive\n",
        "drive.mount('/content/gdrive')"
      ]
    },
    {
      "cell_type": "code",
      "source": [
        "import numpy as np\n",
        "import tensorflow\n",
        "from tensorflow import keras"
      ],
      "metadata": {
        "id": "7SaYdrGEB1P4"
      },
      "execution_count": 2,
      "outputs": []
    },
    {
      "cell_type": "code",
      "source": [
        "y_train = np.load('/content/gdrive/MyDrive/data-v/y_train.npy')\n",
        "frames = np.load('/content/gdrive/MyDrive/data-v/frames.npy')"
      ],
      "metadata": {
        "id": "3oGKxFEpBIzC"
      },
      "execution_count": 3,
      "outputs": []
    },
    {
      "cell_type": "code",
      "source": [
        "img_size = 90"
      ],
      "metadata": {
        "id": "NsUHRhTXCz7U"
      },
      "execution_count": 4,
      "outputs": []
    },
    {
      "cell_type": "code",
      "source": [
        "model_layers=[\n",
        "    keras.layers.Conv2D( 256, input_shape=( img_size , img_size , 3 ) , kernel_size=( 5 , 5 ) , strides=1 , activation='relu',name=\"input_layer\"),\n",
        "    keras.layers.Conv2D( 256 , kernel_size=( 5 , 5 ) , strides=1 , activation='relu' ),\n",
        "    keras.layers.BatchNormalization(),\n",
        "    keras.layers.Dropout(0.3),\n",
        "    \n",
        "    keras.layers.Conv2D( 256, kernel_size=( 5 , 5 ) , strides=1 , activation='relu' ),\n",
        "    keras.layers.Conv2D( 256, kernel_size=( 5 , 5 ) , strides=1 , activation='relu' ),\n",
        "    keras.layers.BatchNormalization(),\n",
        "    keras.layers.Dropout(0.3),\n",
        "    \n",
        "    keras.layers.Conv2D( 200, kernel_size=( 5 , 5 ) , strides=2 , activation='relu'),\n",
        "    keras.layers.Conv2D( 200 , kernel_size=( 5 , 5 ) , strides= 1, activation='relu'),\n",
        "    keras.layers.BatchNormalization(),\n",
        "    keras.layers.Dropout(0.3),\n",
        "    \n",
        "    keras.layers.Conv2D( 200, kernel_size=( 5 , 5 ) , strides=1 , activation='relu'),\n",
        "    keras.layers.Conv2D( 200 , kernel_size=( 5 , 5 ) , strides=1 , activation='relu' ),\n",
        "    keras.layers.BatchNormalization(),\n",
        "    keras.layers.Dropout(0.3),\n",
        "    \n",
        "    keras.layers.Conv2D( 170, kernel_size=( 3 , 3 ) , strides=1 , activation='relu' ),\n",
        "    keras.layers.Conv2D( 170, kernel_size=( 3 , 3 ) , strides=1 , activation='relu' ),\n",
        "    keras.layers.BatchNormalization(),\n",
        "    keras.layers.Dropout(0.3),\n",
        "    \n",
        "    keras.layers.Conv2D( 136, kernel_size=( 3 , 3 ) , strides=1 , activation='relu'),\n",
        "    keras.layers.Conv2D( 136, kernel_size=( 3 , 3 ) , strides=2 , activation='relu'),\n",
        "    keras.layers.BatchNormalization(),\n",
        "    keras.layers.Dropout(0.3),\n",
        "    \n",
        "    keras.layers.Conv2D( 136, kernel_size=( 3 , 3 ) , strides=2 , activation='relu'),\n",
        "    keras.layers.Conv2D( 136 , kernel_size=( 3 , 3 ) , strides=1 , activation='sigmoid'),\n",
        "\n",
        "    \n",
        "]\n",
        "model=keras.Sequential(model_layers)\n",
        "model.compile( loss= keras.losses.mean_squared_error , optimizer= keras.optimizers.Adam( lr=0.001 ) )\n",
        "model.summary()"
      ],
      "metadata": {
        "colab": {
          "base_uri": "https://localhost:8080/"
        },
        "id": "CqMG0XoQCEi0",
        "outputId": "86875c48-a101-4f06-dbc3-f6331eecb162"
      },
      "execution_count": 5,
      "outputs": [
        {
          "output_type": "stream",
          "name": "stdout",
          "text": [
            "Model: \"sequential\"\n",
            "_________________________________________________________________\n",
            " Layer (type)                Output Shape              Param #   \n",
            "=================================================================\n",
            " input_layer (Conv2D)        (None, 86, 86, 256)       19456     \n",
            "                                                                 \n",
            " conv2d (Conv2D)             (None, 82, 82, 256)       1638656   \n",
            "                                                                 \n",
            " batch_normalization (BatchN  (None, 82, 82, 256)      1024      \n",
            " ormalization)                                                   \n",
            "                                                                 \n",
            " dropout (Dropout)           (None, 82, 82, 256)       0         \n",
            "                                                                 \n",
            " conv2d_1 (Conv2D)           (None, 78, 78, 256)       1638656   \n",
            "                                                                 \n",
            " conv2d_2 (Conv2D)           (None, 74, 74, 256)       1638656   \n",
            "                                                                 \n",
            " batch_normalization_1 (Batc  (None, 74, 74, 256)      1024      \n",
            " hNormalization)                                                 \n",
            "                                                                 \n",
            " dropout_1 (Dropout)         (None, 74, 74, 256)       0         \n",
            "                                                                 \n",
            " conv2d_3 (Conv2D)           (None, 35, 35, 200)       1280200   \n",
            "                                                                 \n",
            " conv2d_4 (Conv2D)           (None, 31, 31, 200)       1000200   \n",
            "                                                                 \n",
            " batch_normalization_2 (Batc  (None, 31, 31, 200)      800       \n",
            " hNormalization)                                                 \n",
            "                                                                 \n",
            " dropout_2 (Dropout)         (None, 31, 31, 200)       0         \n",
            "                                                                 \n",
            " conv2d_5 (Conv2D)           (None, 27, 27, 200)       1000200   \n",
            "                                                                 \n",
            " conv2d_6 (Conv2D)           (None, 23, 23, 200)       1000200   \n",
            "                                                                 \n",
            " batch_normalization_3 (Batc  (None, 23, 23, 200)      800       \n",
            " hNormalization)                                                 \n",
            "                                                                 \n",
            " dropout_3 (Dropout)         (None, 23, 23, 200)       0         \n",
            "                                                                 \n",
            " conv2d_7 (Conv2D)           (None, 21, 21, 170)       306170    \n",
            "                                                                 \n",
            " conv2d_8 (Conv2D)           (None, 19, 19, 170)       260270    \n",
            "                                                                 \n",
            " batch_normalization_4 (Batc  (None, 19, 19, 170)      680       \n",
            " hNormalization)                                                 \n",
            "                                                                 \n",
            " dropout_4 (Dropout)         (None, 19, 19, 170)       0         \n",
            "                                                                 \n",
            " conv2d_9 (Conv2D)           (None, 17, 17, 136)       208216    \n",
            "                                                                 \n",
            " conv2d_10 (Conv2D)          (None, 8, 8, 136)         166600    \n",
            "                                                                 \n",
            " batch_normalization_5 (Batc  (None, 8, 8, 136)        544       \n",
            " hNormalization)                                                 \n",
            "                                                                 \n",
            " dropout_5 (Dropout)         (None, 8, 8, 136)         0         \n",
            "                                                                 \n",
            " conv2d_11 (Conv2D)          (None, 3, 3, 136)         166600    \n",
            "                                                                 \n",
            " conv2d_12 (Conv2D)          (None, 1, 1, 136)         166600    \n",
            "                                                                 \n",
            "=================================================================\n",
            "Total params: 10,495,552\n",
            "Trainable params: 10,493,116\n",
            "Non-trainable params: 2,436\n",
            "_________________________________________________________________\n"
          ]
        },
        {
          "output_type": "stream",
          "name": "stderr",
          "text": [
            "/usr/local/lib/python3.7/dist-packages/keras/optimizer_v2/adam.py:105: UserWarning: The `lr` argument is deprecated, use `learning_rate` instead.\n",
            "  super(Adam, self).__init__(name, **kwargs)\n"
          ]
        }
      ]
    },
    {
      "cell_type": "code",
      "source": [
        "train=model.fit(frames,y_train,epochs=3,batch_size=32, verbose=2)"
      ],
      "metadata": {
        "colab": {
          "base_uri": "https://localhost:8080/"
        },
        "id": "Wl1k1f88Cxyo",
        "outputId": "6dd96943-6914-401e-bece-2039fc03dfed"
      },
      "execution_count": 7,
      "outputs": [
        {
          "output_type": "stream",
          "name": "stdout",
          "text": [
            "Epoch 1/3\n",
            "69/69 - 70s - loss: 0.0040 - 70s/epoch - 1s/step\n",
            "Epoch 2/3\n",
            "69/69 - 70s - loss: 0.0034 - 70s/epoch - 1s/step\n",
            "Epoch 3/3\n",
            "69/69 - 70s - loss: 0.0033 - 70s/epoch - 1s/step\n"
          ]
        }
      ]
    },
    {
      "cell_type": "code",
      "source": [
        ""
      ],
      "metadata": {
        "id": "Rjg6ivj4C6bv"
      },
      "execution_count": null,
      "outputs": []
    }
  ]
}