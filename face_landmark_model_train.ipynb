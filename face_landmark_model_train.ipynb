{
  "nbformat": 4,
  "nbformat_minor": 0,
  "metadata": {
    "colab": {
      "name": "face-landmark-model-train.ipynb",
      "provenance": [],
      "authorship_tag": "ABX9TyOphmI/fcwbl4MkkbtUGShB",
      "include_colab_link": true
    },
    "kernelspec": {
      "name": "python3",
      "display_name": "Python 3"
    },
    "language_info": {
      "name": "python"
    },
    "accelerator": "GPU"
  },
  "cells": [
    {
      "cell_type": "markdown",
      "metadata": {
        "id": "view-in-github",
        "colab_type": "text"
      },
      "source": [
        "<a href=\"https://colab.research.google.com/github/Karthick47v2/mock-buddy/blob/main/face_landmark_model_train.ipynb\" target=\"_parent\"><img src=\"https://colab.research.google.com/assets/colab-badge.svg\" alt=\"Open In Colab\"/></a>"
      ]
    },
    {
      "cell_type": "code",
      "execution_count": 1,
      "metadata": {
        "id": "S0G29V62A0F-",
        "colab": {
          "base_uri": "https://localhost:8080/"
        },
        "outputId": "1dcde339-85df-4035-8d13-21a852a5b99a"
      },
      "outputs": [
        {
          "output_type": "stream",
          "name": "stdout",
          "text": [
            "Mounted at /content/gdrive\n"
          ]
        }
      ],
      "source": [
        "from google.colab import drive\n",
        "drive.mount('/content/gdrive')"
      ]
    },
    {
      "cell_type": "code",
      "source": [
        "import numpy as np\n",
        "import matplotlib.pyplot as plt\n",
        "import sklearn.model_selection\n",
        "import tensorflow\n",
        "from tensorflow import keras"
      ],
      "metadata": {
        "id": "7SaYdrGEB1P4"
      },
      "execution_count": 1,
      "outputs": []
    },
    {
      "cell_type": "code",
      "source": [
        "y_train = np.load('/content/gdrive/MyDrive/data-v/y_train30_AUG.npy')\n",
        "frames = np.load('/content/gdrive/MyDrive/data-v/frames30_AUG.npy')"
      ],
      "metadata": {
        "id": "3oGKxFEpBIzC"
      },
      "execution_count": 2,
      "outputs": []
    },
    {
      "cell_type": "code",
      "source": [
        "img_size = 224"
      ],
      "metadata": {
        "id": "NsUHRhTXCz7U"
      },
      "execution_count": 3,
      "outputs": []
    },
    {
      "cell_type": "code",
      "source": [
        "# creating sequential model\n",
        "model = keras.models.Sequential()\n",
        "\n",
        "# using MobileNetV2 as feature extractor // include_top=False -> discarding last few layers and going to add custom layers for landmark detection\n",
        "mn_v2 = keras.applications.MobileNetV2(input_shape=(224,224,3), include_top=False, weights='imagenet')"
      ],
      "metadata": {
        "id": "SzeOlLLZWq3q"
      },
      "execution_count": 5,
      "outputs": []
    },
    {
      "cell_type": "code",
      "source": [
        "model.add(mn_v2)\n",
        "model.add(keras.layers.GlobalAveragePooling2D())\n",
        "model.add(keras.layers.Dropout(0.3))\n",
        "model.add(keras.layers.Dense(136))\n",
        "\n",
        "model.build(input_shape=(None, 224, 224, 3))"
      ],
      "metadata": {
        "id": "FOMRgjrKEBUC"
      },
      "execution_count": 6,
      "outputs": []
    },
    {
      "cell_type": "code",
      "source": [
        "###########################\n",
        "mobilenetv2 = keras.applications.MobileNetV2(input_shape=(img_size,img_size,3), include_top=False, weights='imagenet')\n",
        "mobilenetv2.trainable = False\n",
        "\n",
        "input = keras.layers.Input((img_size,img_size,3))\n",
        "\n",
        "x = keras.applications.mobilenet_v2.preprocess_input(input)\n",
        "x = mobilenetv2(x)\n",
        "# x = keras.layers.Dropout(0.5)(x)\n",
        "x = keras.layers.SeparableConv2D(136, kernel_size=5, strides=1, activation=\"relu\")(x)\n",
        "output = keras.layers.SeparableConv2D(136, kernel_size=3, strides=1, activation=\"sigmoid\")(x)\n",
        "\n",
        "model = keras.Model(input, output)\n",
        "#####################\n"
      ],
      "metadata": {
        "id": "Fe-gQW_kZHIo"
      },
      "execution_count": 11,
      "outputs": []
    },
    {
      "cell_type": "code",
      "source": [
        "model.compile(optimizer='adam', loss=\"mean_squared_error\", metrics=[\"mae\", \"accuracy\"])\n",
        "\n",
        "chk_path = \"trained_model/model\"\n",
        "model_checkpoint = keras.callbacks.ModelCheckpoint(filepath=chk_path,\n",
        "                                                   monitor=\"val_mae\",\n",
        "                                                   mode=\"auto\",\n",
        "                                                   save_best_only=True,\n",
        "                                                   save_weights_only=True\n",
        "                                                   )"
      ],
      "metadata": {
        "id": "cRuBTxecHX5k"
      },
      "execution_count": 12,
      "outputs": []
    },
    {
      "cell_type": "code",
      "source": [
        "reduce_lr = keras.callbacks.ReduceLROnPlateau(factor=0.9,\n",
        "                                              monitor=\"val_mae\",\n",
        "                                              mode=\"auto\",\n",
        "                                              cooldown=0,\n",
        "                                              patience=5,\n",
        "                                              verbose=1,\n",
        "                                              min_lr=1e-6\n",
        "                                              )"
      ],
      "metadata": {
        "id": "7X9xqUOwIMDM"
      },
      "execution_count": 13,
      "outputs": []
    },
    {
      "cell_type": "code",
      "source": [
        "train_frames, val_frames, train_lm, val_lm = sklearn.model_selection.train_test_split(frames, y_train, test_size=0.2, random_state=42)"
      ],
      "metadata": {
        "id": "AmV1JXH3JqFd"
      },
      "execution_count": 5,
      "outputs": []
    },
    {
      "cell_type": "code",
      "source": [
        "frames = []\n",
        "y_train = []"
      ],
      "metadata": {
        "id": "PwPHVrhnk-BY"
      },
      "execution_count": 6,
      "outputs": []
    },
    {
      "cell_type": "code",
      "source": [
        "EPOCHS=300\n",
        "BATCH_SIZE=32"
      ],
      "metadata": {
        "id": "Js5C7QnhMpr0"
      },
      "execution_count": 14,
      "outputs": []
    },
    {
      "cell_type": "code",
      "source": [
        "history=model.fit(train_frames,\n",
        "                  train_lm,\n",
        "                  validation_data=(val_frames, val_lm),\n",
        "                  batch_size=BATCH_SIZE,\n",
        "                  epochs=EPOCHS,\n",
        "                  callbacks=[model_checkpoint, reduce_lr]\n",
        "                  )"
      ],
      "metadata": {
        "id": "yAWtSuc1InKd"
      },
      "execution_count": null,
      "outputs": []
    },
    {
      "cell_type": "code",
      "source": [
        "model.save('/content/gdrive/MyDrive/data-v/mymodel')"
      ],
      "metadata": {
        "id": "Rjg6ivj4C6bv"
      },
      "execution_count": null,
      "outputs": []
    },
    {
      "cell_type": "code",
      "source": [
        "model = keras.models.load_model('/content/gdrive/MyDrive/data-v/mymodel')"
      ],
      "metadata": {
        "id": "EKTFFejlORNT"
      },
      "execution_count": 12,
      "outputs": []
    },
    {
      "cell_type": "code",
      "source": [
        "test_frames = np.load('/content/gdrive/MyDrive/data-v/test_frames.npy')"
      ],
      "metadata": {
        "id": "vSysxpLW8Ok1"
      },
      "execution_count": 13,
      "outputs": []
    },
    {
      "cell_type": "code",
      "source": [
        "fig, arr = plt.subplots(6,5,figsize=(20,20))\n",
        "\n",
        "for i in range(1, 30):\n",
        "  r = i // 5\n",
        "  c = i % 5\n",
        "\n",
        "  sam = test_frames[i]\n",
        "  pred = model.predict( test_frames[ i : i +1  ] ) \n",
        "  x=np.reshape(pred[:,:,:,np.arange(0,136,2)],(68))*img_size\n",
        "  y=np.reshape(pred[:,:,:,np.arange(1,136,2)],(68))*img_size\n",
        "  arr[r][c].imshow(sam)\n",
        "  arr[r][c].scatter( x,y, c='yellow',s=6)"
      ],
      "metadata": {
        "id": "O5QFbVIXPLnZ"
      },
      "execution_count": null,
      "outputs": []
    }
  ]
}