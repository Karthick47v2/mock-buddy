{
  "nbformat": 4,
  "nbformat_minor": 0,
  "metadata": {
    "colab": {
      "name": "face-landmark-model-train.ipynb",
      "provenance": [],
      "authorship_tag": "ABX9TyOhZxQ9/LAZJXmfJZN02lDv",
      "include_colab_link": true
    },
    "kernelspec": {
      "name": "python3",
      "display_name": "Python 3"
    },
    "language_info": {
      "name": "python"
    }
  },
  "cells": [
    {
      "cell_type": "markdown",
      "metadata": {
        "id": "view-in-github",
        "colab_type": "text"
      },
      "source": [
        "<a href=\"https://colab.research.google.com/github/Karthick47v2/mock-buddy/blob/main/face_landmark_model_train.ipynb\" target=\"_parent\"><img src=\"https://colab.research.google.com/assets/colab-badge.svg\" alt=\"Open In Colab\"/></a>"
      ]
    },
    {
      "cell_type": "code",
      "execution_count": 1,
      "metadata": {
        "id": "S0G29V62A0F-",
        "outputId": "b08d69ac-004a-46df-ec1e-e665200c3288",
        "colab": {
          "base_uri": "https://localhost:8080/"
        }
      },
      "outputs": [
        {
          "output_type": "stream",
          "name": "stdout",
          "text": [
            "Mounted at /content/gdrive\n"
          ]
        }
      ],
      "source": [
        "from google.colab import drive\n",
        "drive.mount('/content/gdrive')"
      ]
    },
    {
      "cell_type": "code",
      "source": [
        "import numpy as np\n",
        "import matplotlib.pyplot as plt\n",
        "import sklearn.model_selection\n",
        "import tensorflow\n",
        "from tensorflow import keras"
      ],
      "metadata": {
        "id": "7SaYdrGEB1P4"
      },
      "execution_count": 14,
      "outputs": []
    },
    {
      "cell_type": "code",
      "source": [
        "y_train = np.load('/content/gdrive/MyDrive/data-v/y_train.npy')\n",
        "frames = np.load('/content/gdrive/MyDrive/data-v/frames.npy')\n",
        "\n",
        "test_frames = np.load('/content/gdrive/MyDrive/data-v/test_frames.npy')\n",
        "test_bbox = np.load('/content/gdrive/MyDrive/data-v/test_bbox.npy')"
      ],
      "metadata": {
        "id": "3oGKxFEpBIzC"
      },
      "execution_count": 10,
      "outputs": []
    },
    {
      "cell_type": "code",
      "source": [
        "img_size = 192"
      ],
      "metadata": {
        "id": "NsUHRhTXCz7U"
      },
      "execution_count": 4,
      "outputs": []
    },
    {
      "cell_type": "code",
      "source": [
        "# creating sequential model\n",
        "model = keras.models.Sequential()\n",
        "\n",
        "# using MobileNetV2 as feature extractor // include_top=False -> discarding last few layers and going to add custom layers for landmark detection\n",
        "mn_v2 = keras.applications.MobileNetV2(input_shape=(192,192,3), include_top=False, weights='imagenet')"
      ],
      "metadata": {
        "id": "SzeOlLLZWq3q",
        "outputId": "8ab69695-8fa4-4da3-c396-fd94495afb28",
        "colab": {
          "base_uri": "https://localhost:8080/"
        }
      },
      "execution_count": 5,
      "outputs": [
        {
          "output_type": "stream",
          "name": "stdout",
          "text": [
            "Downloading data from https://storage.googleapis.com/tensorflow/keras-applications/mobilenet_v2/mobilenet_v2_weights_tf_dim_ordering_tf_kernels_1.0_192_no_top.h5\n",
            "9412608/9406464 [==============================] - 0s 0us/step\n",
            "9420800/9406464 [==============================] - 0s 0us/step\n"
          ]
        }
      ]
    },
    {
      "cell_type": "code",
      "source": [
        "model.add(mn_v2)\n",
        "model.add(keras.layers.GlobalAveragePooling2D())\n",
        "model.add(keras.layers.Dropout(0.3))\n",
        "model.add(keras.layers.Dense(136))\n",
        "\n",
        "model.build(input_shape=(None, 192, 192, 3))"
      ],
      "metadata": {
        "id": "FOMRgjrKEBUC"
      },
      "execution_count": 6,
      "outputs": []
    },
    {
      "cell_type": "code",
      "source": [
        "model.summary()"
      ],
      "metadata": {
        "id": "6MijsIpCHN1z"
      },
      "execution_count": null,
      "outputs": []
    },
    {
      "cell_type": "code",
      "source": [
        "model.compile(optimizer='adam', loss=\"mean_squared_error\", metrics=[\"mae\"])\n",
        "\n",
        "chk_path = \"trained_model/model\"\n",
        "model_checkpoint = keras.callbacks.ModelCheckpoint(filepath=chk_path,\n",
        "                                                   monitor=\"val_mae\",\n",
        "                                                   mode=\"auto\",\n",
        "                                                   save_best_only=True,\n",
        "                                                   save_weights_only=True\n",
        "                                                   )"
      ],
      "metadata": {
        "id": "cRuBTxecHX5k"
      },
      "execution_count": 8,
      "outputs": []
    },
    {
      "cell_type": "code",
      "source": [
        "reduce_lr = keras.callbacks.ReduceLROnPlateau(factor=0.9,\n",
        "                                              monitor=\"val_mae\",\n",
        "                                              mode=\"auto\",\n",
        "                                              cooldown=0,\n",
        "                                              patience=5,\n",
        "                                              verbose=1,\n",
        "                                              min_lr=1e-6\n",
        "                                              )"
      ],
      "metadata": {
        "id": "7X9xqUOwIMDM"
      },
      "execution_count": 9,
      "outputs": []
    },
    {
      "cell_type": "code",
      "source": [
        "train_frames, train_lm, val_frames, val_lm = sklearn.model_selection.train_test_split(frames, y_train, test_size=0.1, random_state=42)"
      ],
      "metadata": {
        "id": "AmV1JXH3JqFd"
      },
      "execution_count": 16,
      "outputs": []
    },
    {
      "cell_type": "code",
      "source": [
        "EPOCHS=300\n",
        "BATCH_SIZE=32\n",
        "\n",
        "history=model.fit(train_frames,\n",
        "                  train_lm,\n",
        "                  validation_data=(val_frames, val_lm),\n",
        "                  batch_size=BATCH_SIZE,\n",
        "                  epochs=EPOCHS,\n",
        "                  callbacks=[model_checkpoint, reduce_lr]\n",
        "                  )"
      ],
      "metadata": {
        "id": "yAWtSuc1InKd"
      },
      "execution_count": null,
      "outputs": []
    },
    {
      "cell_type": "code",
      "source": [
        "# model_layers=[\n",
        "#     keras.layers.Conv2D( 256, input_shape=( img_size , img_size , 3 ) , kernel_size=( 5 , 5 ) , strides=1 , activation='relu',name=\"input_layer\"),\n",
        "#     keras.layers.Conv2D( 256 , kernel_size=( 5 , 5 ) , strides=1 , activation='relu' ),\n",
        "#     keras.layers.BatchNormalization(),\n",
        "#     keras.layers.Dropout(0.3),\n",
        "    \n",
        "#     keras.layers.Conv2D( 256, kernel_size=( 5 , 5 ) , strides=1 , activation='relu' ),\n",
        "#     keras.layers.Conv2D( 256, kernel_size=( 5 , 5 ) , strides=1 , activation='relu' ),\n",
        "#     keras.layers.BatchNormalization(),\n",
        "#     keras.layers.Dropout(0.3),\n",
        "    \n",
        "#     keras.layers.Conv2D( 200, kernel_size=( 5 , 5 ) , strides=2 , activation='relu'),\n",
        "#     keras.layers.Conv2D( 200 , kernel_size=( 5 , 5 ) , strides= 1, activation='relu'),\n",
        "#     keras.layers.BatchNormalization(),\n",
        "#     keras.layers.Dropout(0.3),\n",
        "    \n",
        "#     keras.layers.Conv2D( 200, kernel_size=( 5 , 5 ) , strides=1 , activation='relu'),\n",
        "#     keras.layers.Conv2D( 200 , kernel_size=( 5 , 5 ) , strides=1 , activation='relu' ),\n",
        "#     keras.layers.BatchNormalization(),\n",
        "#     keras.layers.Dropout(0.3),\n",
        "    \n",
        "#     keras.layers.Conv2D( 170, kernel_size=( 3 , 3 ) , strides=1 , activation='relu' ),\n",
        "#     keras.layers.Conv2D( 170, kernel_size=( 3 , 3 ) , strides=1 , activation='relu' ),\n",
        "#     keras.layers.BatchNormalization(),\n",
        "#     keras.layers.Dropout(0.3),\n",
        "    \n",
        "#     keras.layers.Conv2D( 136, kernel_size=( 3 , 3 ) , strides=1 , activation='relu'),\n",
        "#     keras.layers.Conv2D( 136, kernel_size=( 3 , 3 ) , strides=2 , activation='relu'),\n",
        "#     keras.layers.BatchNormalization(),\n",
        "#     keras.layers.Dropout(0.3),\n",
        "    \n",
        "#     keras.layers.Conv2D( 136, kernel_size=( 3 , 3 ) , strides=2 , activation='relu'),\n",
        "#     keras.layers.Conv2D( 136 , kernel_size=( 3 , 3 ) , strides=1 , activation='sigmoid'),\n",
        "\n",
        "    \n",
        "# ]\n",
        "# model=keras.Sequential(model_layers)\n",
        "# model.compile( loss= keras.losses.mean_squared_error , optimizer= keras.optimizers.Adam( lr=0.001 ) )\n",
        "# model.summary()"
      ],
      "metadata": {
        "id": "CqMG0XoQCEi0"
      },
      "execution_count": null,
      "outputs": []
    },
    {
      "cell_type": "code",
      "source": [
        "train = model.fit(frames, y_train, epochs=3, batch_size=32, verbose=2)"
      ],
      "metadata": {
        "id": "Wl1k1f88Cxyo"
      },
      "execution_count": null,
      "outputs": []
    },
    {
      "cell_type": "code",
      "source": [
        "model.save('/content/gdrive/MyDrive/data-v/mymodel')"
      ],
      "metadata": {
        "id": "Rjg6ivj4C6bv"
      },
      "execution_count": null,
      "outputs": []
    },
    {
      "cell_type": "code",
      "source": [
        "model = keras.models.load_model('/content/gdrive/MyDrive/data-v/mymodel')"
      ],
      "metadata": {
        "id": "EKTFFejlORNT"
      },
      "execution_count": null,
      "outputs": []
    },
    {
      "cell_type": "code",
      "source": [
        ""
      ],
      "metadata": {
        "id": "vSysxpLW8Ok1"
      },
      "execution_count": null,
      "outputs": []
    },
    {
      "cell_type": "code",
      "source": [
        "fig, arr = plt.subplots(6,5,figsize=(20,20))\n",
        "\n",
        "for i in range(1, 30):\n",
        "  r = i // 5\n",
        "  c = i % 5\n",
        "\n",
        "  sam = test_frames[i]\n",
        "  pred = model.predict( test_frames[ i : i +1  ] ) \n",
        "  x=np.reshape(pred[:,:,:,np.arange(0,136,2)],(68))*img_size\n",
        "  y=np.reshape(pred[:,:,:,np.arange(1,136,2)],(68))*img_size\n",
        "  arr[r][c].imshow(sam)\n",
        "  arr[r][c].scatter( x,y, c='yellow',s=6)"
      ],
      "metadata": {
        "id": "O5QFbVIXPLnZ"
      },
      "execution_count": null,
      "outputs": []
    }
  ]
}