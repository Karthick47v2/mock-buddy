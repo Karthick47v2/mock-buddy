{
 "cells": [
  {
   "cell_type": "markdown",
   "metadata": {
    "colab_type": "text",
    "id": "view-in-github"
   },
   "source": [
    "<a href=\"https://colab.research.google.com/github/Karthick47v2/mock-buddy/blob/main/haar_cascade_classifier.ipynb\" target=\"_parent\"><img src=\"https://colab.research.google.com/assets/colab-badge.svg\" alt=\"Open In Colab\"/></a>"
   ]
  },
  {
   "cell_type": "code",
   "execution_count": 2,
   "metadata": {
    "id": "iMQRAoqvx-s0"
   },
   "outputs": [],
   "source": [
    "# image processing\n",
    "import cv2\n",
    "\n",
    "# numpy array\n",
    "import numpy as np\n",
    "\n",
    "# import model\n",
    "import tensorflow\n",
    "from tensorflow import keras"
   ]
  },
  {
   "cell_type": "code",
   "execution_count": 3,
   "metadata": {},
   "outputs": [],
   "source": [
    "img_size = 96\n",
    "edge_offset = 75"
   ]
  },
  {
   "cell_type": "code",
   "execution_count": 4,
   "metadata": {},
   "outputs": [],
   "source": [
    "model = keras.models.load_model('./model')"
   ]
  },
  {
   "cell_type": "code",
   "execution_count": 50,
   "metadata": {},
   "outputs": [],
   "source": [
    "def draw_landmark(frame):\n",
    "  landmarks = model.predict(frame.reshape(1,img_size,img_size,1))\n",
    "\n",
    "  x = np.reshape(landmarks[:,:,:,np.arange(0,136,2)], (68)) * img_size\n",
    "  y = np.reshape(landmarks[:,:,:,np.arange(1,136,2)], (68)) * img_size\n",
    "\n",
    "  for x_coord, y_coord in zip(x,y):\n",
    "    cv2.circle(frame, tuple((int(x_coord),int(y_coord))), radius=1, color=(255,0,0), thickness=1)\n",
    "\n",
    "  return frame"
   ]
  },
  {
   "cell_type": "code",
   "execution_count": 51,
   "metadata": {
    "id": "D8PjD9fx1Y4A"
   },
   "outputs": [],
   "source": [
    "# download prebuilt haarcascade xml for face detection\n",
    "face_cascade = cv2.CascadeClassifier('haarcascade_xml/haarcascade_frontalface_alt2.xml')\n",
    "\n",
    "# webcam\n",
    "cap = cv2.VideoCapture(0)\n",
    "\n",
    "while 1:\n",
    "  ret, frame = cap.read()\n",
    "  # haar cascade needs grayscale image so covert bgr to gray (Opencv uses bgr format)\n",
    "  gray_scale = cv2.cvtColor(frame, cv2.COLOR_BGR2GRAY)\n",
    "\n",
    "  # detectMultiScale returns coords of bounding box(s)\n",
    "  faces_rect = face_cascade.detectMultiScale(gray_scale, scaleFactor=1.4, minNeighbors=3, minSize=(30,30))       #1.3 - scalefactor\n",
    "     \n",
    "  areas = [w*h for x,y,w,h in faces_rect]\n",
    "  try:\n",
    "      large_rect = np.argmax(areas)\n",
    "      bbox = faces_rect[large_rect]\n",
    "\n",
    "      # extending bounding box a bit in order to create input for model\n",
    "      bbox[2] += bbox[0] + edge_offset\n",
    "      bbox[3] += bbox[1] + edge_offset\n",
    "      bbox[0] -= edge_offset\n",
    "      bbox[1] -= edge_offset\n",
    "      \n",
    "      # cliping to make sure dims don't exceed frame range\n",
    "      X = np.clip(bbox[[0,2]], 0, frame.shape[1])\n",
    "      Y = np.clip(bbox[[1,3]], 0, frame.shape[0])\n",
    "\n",
    "      # roi - region of interest \n",
    "      # offsetting bounding box because model needs full face image\n",
    "      input_frame = np.array(gray_scale[Y[0] : Y[1], X[0] : X[1]])\n",
    "      \n",
    "      frame_h, frame_w = input_frame.shape[:2]\n",
    "      scale_h, scale_w = img_size / frame_h, img_size / frame_w\n",
    "\n",
    "      # resize to 96x96\n",
    "      input_frame= cv2.resize(input_frame, (img_size, img_size)).astype(np.uint8)\n",
    "      \n",
    "      #inference\n",
    "      frame = draw_landmark(input_frame)\n",
    "      # print(model.predict(input_frame).shape)\n",
    "\n",
    "  except:\n",
    "    ##########################\n",
    "    person_not_facing = True\n",
    "    ##########################\n",
    "\n",
    "  cv2.imshow('frame', frame)\n",
    "\n",
    "  # return if q pressed\n",
    "  if cv2.waitKey(1) & 0xFF == ord('q'):\n",
    "    break\n",
    "\n",
    "# release webcam\n",
    "cap.release()\n",
    "\n",
    "# close window\n",
    "cv2.destroyAllWindows()"
   ]
  },
  {
   "cell_type": "code",
   "execution_count": null,
   "metadata": {},
   "outputs": [],
   "source": []
  }
 ],
 "metadata": {
  "colab": {
   "authorship_tag": "ABX9TyPeiIJoDogLGabc3CeI0u3X",
   "collapsed_sections": [],
   "include_colab_link": true,
   "name": "haar-cascade-classifier.ipynb",
   "provenance": []
  },
  "kernelspec": {
   "display_name": "Python 3 (ipykernel)",
   "language": "python",
   "name": "python3"
  },
  "language_info": {
   "codemirror_mode": {
    "name": "ipython",
    "version": 3
   },
   "file_extension": ".py",
   "mimetype": "text/x-python",
   "name": "python",
   "nbconvert_exporter": "python",
   "pygments_lexer": "ipython3",
   "version": "3.9.6"
  }
 },
 "nbformat": 4,
 "nbformat_minor": 1
}
