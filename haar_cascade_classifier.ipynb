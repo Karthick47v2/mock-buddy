{
  "nbformat": 4,
  "nbformat_minor": 0,
  "metadata": {
    "colab": {
      "name": "haar-cascade-classifier.ipynb",
      "provenance": [],
      "collapsed_sections": [],
      "authorship_tag": "ABX9TyPeiIJoDogLGabc3CeI0u3X",
      "include_colab_link": true
    },
    "kernelspec": {
      "name": "python3",
      "display_name": "Python 3"
    },
    "language_info": {
      "name": "python"
    }
  },
  "cells": [
    {
      "cell_type": "markdown",
      "metadata": {
        "id": "view-in-github",
        "colab_type": "text"
      },
      "source": [
        "<a href=\"https://colab.research.google.com/github/Karthick47v2/mock-buddy/blob/main/haar_cascade_classifier.ipynb\" target=\"_parent\"><img src=\"https://colab.research.google.com/assets/colab-badge.svg\" alt=\"Open In Colab\"/></a>"
      ]
    },
    {
      "cell_type": "code",
      "execution_count": 1,
      "metadata": {
        "id": "iMQRAoqvx-s0"
      },
      "outputs": [],
      "source": [
        "# image processing\n",
        "import cv2"
      ]
    },
    {
      "cell_type": "code",
      "source": [
        "# download prebuilt haarcascade xml for face detection\n",
        "face_cascade = cv2.CascadeClassifier('haarcascade_frontalface_default.xml')\n",
        "\n",
        "# webcam\n",
        "cap = cv2.VideoCapture(0)\n",
        "\n",
        "while 1:\n",
        "  ret, frame = cap.read()\n",
        "  # haar cascade needs grayscale image so covert bgr to gray (Opencv uses bgr format)\n",
        "  gray_scale = cv2.cvtColor(frame, cv2.COLOR_BGR2GRAY)\n",
        "\n",
        "  # detectMultiScale returns coords of bounding box(s)\n",
        "  facesRect = face_cascade.detectMultiScale(gray_scale, scaleFactor=1.4, minNeighbours=5, minSize=(30,30))       #1.3 - scalefactor\n",
        " \n",
        "  for (x, y, w, h) in facesRect:\n",
        "    cv2.rectangle(frame, (x, y), (x + w, y + h), (255, 255, 0), 2)\n",
        "    # roi - region of interest \n",
        "    roi_gray = gray_scale[y:y + h, x:x + w]\n",
        "    roi_color = frame[y:y + h, x:x + w]\n",
        "    \n",
        "    cv2.imshow('frame', frame)\n",
        "\n",
        "    # return if esc pressed\n",
        "    if cv2.waitKey(1) & 0xFF == 27:\n",
        "      break\n",
        "\n",
        "# release webcam\n",
        "cap.release()\n",
        "\n",
        "# close window\n",
        "cv2.destroyAllWindows()"
      ],
      "metadata": {
        "id": "D8PjD9fx1Y4A"
      },
      "execution_count": null,
      "outputs": []
    }
  ]
}