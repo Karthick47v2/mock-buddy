{
 "cells": [
  {
   "cell_type": "markdown",
   "metadata": {
    "colab_type": "text",
    "id": "view-in-github"
   },
   "source": [
    "<a href=\"https://colab.research.google.com/github/Karthick47v2/mock-buddy/blob/main/haar_cascade_classifier.ipynb\" target=\"_parent\"><img src=\"https://colab.research.google.com/assets/colab-badge.svg\" alt=\"Open In Colab\"/></a>"
   ]
  },
  {
   "cell_type": "code",
   "execution_count": 3,
   "metadata": {
    "id": "iMQRAoqvx-s0"
   },
   "outputs": [],
   "source": [
    "# image processing\n",
    "import cv2\n",
    "\n",
    "# numpy array\n",
    "import numpy as np"
   ]
  },
  {
   "cell_type": "code",
   "execution_count": 8,
   "metadata": {
    "id": "D8PjD9fx1Y4A"
   },
   "outputs": [],
   "source": [
    "# download prebuilt haarcascade xml for face detection\n",
    "face_cascade = cv2.CascadeClassifier('haarcascade_xml/haarcascade_frontalface_alt2.xml')\n",
    "\n",
    "# webcam\n",
    "cap = cv2.VideoCapture(0)\n",
    "\n",
    "while 1:\n",
    "  ret, frame = cap.read()\n",
    "  # haar cascade needs grayscale image so covert bgr to gray (Opencv uses bgr format)\n",
    "  gray_scale = cv2.cvtColor(frame, cv2.COLOR_BGR2GRAY)\n",
    "\n",
    "  # detectMultiScale returns coords of bounding box(s)\n",
    "  faces_rect = face_cascade.detectMultiScale(gray_scale, scaleFactor=1.4, minNeighbors=3, minSize=(30,30))       #1.3 - scalefactor\n",
    "     \n",
    "  areas = [w*h for x,y,w,h in faces_rect]\n",
    "  try:\n",
    "      large_rect = np.argmax(areas)\n",
    "      x,y,w,h = faces_rect[large_rect]\n",
    "    \n",
    "      cv2.rectangle(frame, (x, y), (x + w, y + h), (255, 255, 0), 2)\n",
    "      # roi - region of interest \n",
    "      roi_gray = gray_scale[y:y + h, x:x + w]\n",
    "      roi_color = frame[y:y + h, x:x + w]\n",
    "  except:\n",
    "    ##########################\n",
    "    person_not_facing = True\n",
    "    ##########################\n",
    "\n",
    "  cv2.imshow('frame', frame)\n",
    "\n",
    "  # return if q pressed\n",
    "  if cv2.waitKey(1) & 0xFF == ord('q'):\n",
    "    break\n",
    "\n",
    "# release webcam\n",
    "cap.release()\n",
    "\n",
    "# close window\n",
    "cv2.destroyAllWindows()"
   ]
  },
  {
   "cell_type": "code",
   "execution_count": null,
   "metadata": {},
   "outputs": [],
   "source": []
  }
 ],
 "metadata": {
  "colab": {
   "authorship_tag": "ABX9TyPeiIJoDogLGabc3CeI0u3X",
   "collapsed_sections": [],
   "include_colab_link": true,
   "name": "haar-cascade-classifier.ipynb",
   "provenance": []
  },
  "kernelspec": {
   "display_name": "Python 3 (ipykernel)",
   "language": "python",
   "name": "python3"
  },
  "language_info": {
   "codemirror_mode": {
    "name": "ipython",
    "version": 3
   },
   "file_extension": ".py",
   "mimetype": "text/x-python",
   "name": "python",
   "nbconvert_exporter": "python",
   "pygments_lexer": "ipython3",
   "version": "3.9.6"
  }
 },
 "nbformat": 4,
 "nbformat_minor": 1
}
