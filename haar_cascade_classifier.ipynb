{
 "cells": [
  {
   "cell_type": "markdown",
   "metadata": {
    "colab_type": "text",
    "id": "view-in-github"
   },
   "source": [
    "<a href=\"https://colab.research.google.com/github/Karthick47v2/mock-buddy/blob/main/haar_cascade_classifier.ipynb\" target=\"_parent\"><img src=\"https://colab.research.google.com/assets/colab-badge.svg\" alt=\"Open In Colab\"/></a>"
   ]
  },
  {
   "cell_type": "code",
   "execution_count": 2,
   "metadata": {
    "id": "iMQRAoqvx-s0"
   },
   "outputs": [],
   "source": [
    "# image processing\n",
    "import cv2\n",
    "\n",
    "# numpy array\n",
    "import numpy as np\n",
    "\n",
    "# # import model\n",
    "# import tensorflow\n",
    "# from tensorflow import keras"
   ]
  },
  {
   "cell_type": "code",
   "execution_count": 2,
   "metadata": {},
   "outputs": [],
   "source": [
    "# sound recording\n",
    "import pyaudio\n",
    "\n",
    "# save wav file\n",
    "import wave"
   ]
  },
  {
   "cell_type": "code",
   "execution_count": 3,
   "metadata": {},
   "outputs": [],
   "source": [
    "# sound recording\n",
    "import pyaudio\n",
    "\n",
    "# save wav file\n",
    "import wave"
   ]
  },
  {
   "cell_type": "code",
   "execution_count": 3,
   "metadata": {},
   "outputs": [],
   "source": [
    "img_size = 96\n",
    "edge_offset = 75"
   ]
  },
  {
   "cell_type": "code",
   "execution_count": 5,
   "metadata": {},
   "outputs": [],
   "source": [
    "sample_rate = 44100\n",
    "frames_per_buffer = 1024\n",
    "no_of_channels = 1"
   ]
  },
  {
   "cell_type": "code",
   "execution_count": 6,
   "metadata": {},
   "outputs": [],
   "source": [
    "model = keras.models.load_model('./model')"
   ]
  },
  {
   "cell_type": "code",
   "execution_count": 4,
   "metadata": {},
   "outputs": [],
   "source": [
    "def draw_landmark(frame):\n",
    "  landmarks = model.predict(frame.reshape(1,img_size,img_size,1))\n",
    "\n",
    "  x = np.reshape(landmarks[:,:,:,np.arange(0,136,2)], (68)) * img_size\n",
    "  y = np.reshape(landmarks[:,:,:,np.arange(1,136,2)], (68)) * img_size\n",
    "\n",
    "  for x_coord, y_coord in zip(x,y):\n",
    "    cv2.circle(frame, tuple((int(x_coord),int(y_coord))), radius=1, color=(255,0,0), thickness=1)\n",
    "\n",
    "  return frame"
   ]
  },
  {
   "cell_type": "code",
   "execution_count": 8,
   "metadata": {},
   "outputs": [],
   "source": [
    "def audio_func():\n",
    "    #\n",
    "    audio = pyaudio.PyAudio()\n",
    "    stream = audio.open(format=pyaudio.paInt16, channels=no_of_channels,\n",
    "                        rate=sample_rate, frames_per_buffer=frames_per_buffer, input=True)\n",
    "\n",
    "    audio_frames = []\n",
    "    i  = 0\n",
    "    while i < 1000:\n",
    "        print(i)\n",
    "        i += 1\n",
    "        audio_frames.append(stream.read(frames_per_buffer))\n",
    "\n",
    "    stream.stop_stream()\n",
    "    stream.close()\n",
    "    audio.terminate()\n",
    "\n",
    "    sound_file = wave.open(\"rec.wav\", \"wb\")\n",
    "    sound_file.setnchannels(no_of_channels)\n",
    "    sound_file.setsampwidth(audio.get_sample_size(pyaudio.paInt16))\n",
    "    sound_file.setframerate(sample_rate)\n",
    "    sound_file.writeframes(b''.join(audio_frames))\n",
    "    sound_file.close()\n"
   ]
  },
  {
   "cell_type": "code",
   "execution_count": 7,
   "metadata": {},
   "outputs": [
    {
     "ename": "NameError",
     "evalue": "name '__file__' is not defined",
     "output_type": "error",
     "traceback": [
      "\u001b[0;31m---------------------------------------------------------------------------\u001b[0m",
      "\u001b[0;31mNameError\u001b[0m                                 Traceback (most recent call last)",
      "\u001b[1;32m/home/dedsec/Documents/github/mock-buddy/haar_cascade_classifier.ipynb Cell 10'\u001b[0m in \u001b[0;36m<cell line: 3>\u001b[0;34m()\u001b[0m\n\u001b[1;32m      <a href='vscode-notebook-cell:/home/dedsec/Documents/github/mock-buddy/haar_cascade_classifier.ipynb#ch0000013?line=0'>1</a>\u001b[0m \u001b[39mfrom\u001b[39;00m \u001b[39mpathlib\u001b[39;00m \u001b[39mimport\u001b[39;00m Path\n\u001b[0;32m----> <a href='vscode-notebook-cell:/home/dedsec/Documents/github/mock-buddy/haar_cascade_classifier.ipynb#ch0000013?line=2'>3</a>\u001b[0m base_path \u001b[39m=\u001b[39m Path(\u001b[39m__file__\u001b[39;49m)\u001b[39m.\u001b[39mparent\n\u001b[1;32m      <a href='vscode-notebook-cell:/home/dedsec/Documents/github/mock-buddy/haar_cascade_classifier.ipynb#ch0000013?line=3'>4</a>\u001b[0m haar_cascade_path \u001b[39m=\u001b[39m \u001b[39mstr\u001b[39m(\n\u001b[1;32m      <a href='vscode-notebook-cell:/home/dedsec/Documents/github/mock-buddy/haar_cascade_classifier.ipynb#ch0000013?line=4'>5</a>\u001b[0m     base_path \u001b[39m/\u001b[39m \u001b[39m'\u001b[39m\u001b[39m../haarcascade_xml/haarcascade_frontalface_alt2.xml\u001b[39m\u001b[39m'\u001b[39m)\n",
      "\u001b[0;31mNameError\u001b[0m: name '__file__' is not defined"
     ]
    }
   ],
   "source": [
    "from pathlib import Path\n",
    "\n",
    "base_path = Path(__file__).parent\n",
    "haar_cascade_path = str(\n",
    "    base_path / '../haarcascade_xml/haarcascade_frontalface_alt2.xml')\n"
   ]
  },
  {
   "cell_type": "code",
   "execution_count": 5,
   "metadata": {
    "id": "D8PjD9fx1Y4A"
   },
   "outputs": [],
   "source": [
    "def video_func():\n",
    "  # download prebuilt haarcascade xml for face detection\n",
    "  face_cascade = cv2.CascadeClassifier('haarcascade_xml/haarcascade_frontalface_alt2.xml')\n",
    "\n",
    "  # webcam\n",
    "  cap = cv2.VideoCapture(0)\n",
    "  i = 0\n",
    "  while i < 1000:\n",
    "    i += 1\n",
    "    ret, frame = cap.read()\n",
    "    \n",
    "    # haar cascade needs grayscale image so covert bgr to gray (Opencv uses bgr format)\n",
    "    gray_scale = cv2.cvtColor(frame, cv2.COLOR_BGR2GRAY)\n",
    "\n",
    "    # detectMultiScale returns coords of bounding box(s)\n",
    "    faces_rect = face_cascade.detectMultiScale(gray_scale, scaleFactor=1.4, minNeighbors=3, minSize=(30,30))       #1.3 - scalefactor\n",
    "      \n",
    "    areas = [w*h for x,y,w,h in faces_rect]\n",
    "    try:\n",
    "        large_rect = np.argmax(areas)\n",
    "        bbox = faces_rect[large_rect]\n",
    "\n",
    "        # extending bounding box a bit in order to create input for model\n",
    "        bbox[2] += bbox[0] + edge_offset\n",
    "        bbox[3] += bbox[1] + edge_offset\n",
    "        bbox[0] -= edge_offset\n",
    "        bbox[1] -= edge_offset\n",
    "        \n",
    "        # cliping to make sure dims don't exceed frame range\n",
    "        X = np.clip(bbox[[0,2]], 0, frame.shape[1])\n",
    "        Y = np.clip(bbox[[1,3]], 0, frame.shape[0])\n",
    "\n",
    "        # roi - region of interest \n",
    "        # offsetting bounding box because model needs full face image\n",
    "        input_frame = np.array(gray_scale[Y[0] : Y[1], X[0] : X[1]])\n",
    "        \n",
    "        frame_h, frame_w = input_frame.shape[:2]\n",
    "        scale_h, scale_w = img_size / frame_h, img_size / frame_w\n",
    "\n",
    "        # resize to 96x96\n",
    "        input_frame= cv2.resize(input_frame, (img_size, img_size)).astype(np.uint8)\n",
    "        \n",
    "        #inference\n",
    "        frame = draw_landmark(input_frame)\n",
    "        # print(model.predict(input_frame).shape)\n",
    "\n",
    "    except:\n",
    "      ##########################\n",
    "      person_not_facing = True\n",
    "      ##########################\n",
    "\n",
    "    cv2.imshow('frame', frame)\n",
    "\n",
    "    # return if q pressed\n",
    "    if cv2.waitKey(1) & 0xFF == ord('q'):\n",
    "      break\n",
    "\n",
    "  # release webcam\n",
    "  cap.release()\n",
    "\n",
    "  # close window\n",
    "  cv2.destroyAllWindows()\n"
   ]
  },
  {
   "cell_type": "code",
   "execution_count": 58,
   "metadata": {},
   "outputs": [],
   "source": [
    "# if __name__ == '__main__':\n",
    "\n",
    "#     audio_cpu = mp.Process(target=audio_func)\n",
    "#     video_cpu = mp.Process(target=video_func)\n",
    "#     audio_cpu.start()\n",
    "#     video_cpu.start()\n"
   ]
  },
  {
   "cell_type": "code",
   "execution_count": 6,
   "metadata": {},
   "outputs": [],
   "source": [
    "# audio_func()\n",
    "video_func()"
   ]
  },
  {
   "cell_type": "code",
   "execution_count": null,
   "metadata": {},
   "outputs": [],
   "source": []
  }
 ],
 "metadata": {
  "colab": {
   "authorship_tag": "ABX9TyPeiIJoDogLGabc3CeI0u3X",
   "collapsed_sections": [],
   "include_colab_link": true,
   "name": "haar-cascade-classifier.ipynb",
   "provenance": []
  },
  "interpreter": {
   "hash": "32f709a045223e22559d5736ec21c68cedb3c392fa6e5476656bc307aa6c997c"
  },
  "kernelspec": {
   "display_name": "Python 3.10.4 ('venv': venv)",
   "language": "python",
   "name": "python3"
  },
  "language_info": {
   "codemirror_mode": {
    "name": "ipython",
    "version": 3
   },
   "file_extension": ".py",
   "mimetype": "text/x-python",
   "name": "python",
   "nbconvert_exporter": "python",
   "pygments_lexer": "ipython3",
   "version": "3.10.4"
  }
 },
 "nbformat": 4,
 "nbformat_minor": 1
}
