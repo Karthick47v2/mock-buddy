{
 "cells": [
  {
   "cell_type": "code",
   "execution_count": 1,
   "metadata": {},
   "outputs": [],
   "source": [
    "# create env var\n",
    "import os\n",
    "\n",
    "# Speech-to-Text service\n",
    "from google.cloud import speech"
   ]
  },
  {
   "cell_type": "code",
   "execution_count": 14,
   "metadata": {},
   "outputs": [],
   "source": [
    "# api key\n",
    "os.environ['GOOGLE_APPLICATION_CREDENTIALS'] = './secrets/mock-buddy.json'\n",
    "client = speech.SpeechClient()"
   ]
  },
  {
   "cell_type": "code",
   "execution_count": 21,
   "metadata": {},
   "outputs": [],
   "source": [
    "# debug audio\n",
    "media_uri = 'gs://stt-store/mp.mp3'"
   ]
  },
  {
   "cell_type": "code",
   "execution_count": 22,
   "metadata": {},
   "outputs": [],
   "source": [
    "# instantiate audio var\n",
    "audio = speech.RecognitionAudio(uri=media_uri)\n",
    "\n",
    "# add configs\n",
    "config = speech.RecognitionConfig(\n",
    "    encoding = speech.RecognitionConfig.AudioEncoding.LINEAR16,\n",
    "    sample_rate_hertz=48000,                            # if wav = 44100, audio_channel_count=2 \n",
    "    enable_automatic_punctuation=True,\n",
    "    language_code='en-US',\n",
    "    use_enhanced=True,\n",
    "    model='video'\n",
    ")"
   ]
  },
  {
   "cell_type": "code",
   "execution_count": 23,
   "metadata": {},
   "outputs": [],
   "source": [
    "res = client.long_running_recognize(config=config, audio=audio)"
   ]
  },
  {
   "cell_type": "code",
   "execution_count": 24,
   "metadata": {},
   "outputs": [],
   "source": [
    "res = res.result(timeout=1200)"
   ]
  },
  {
   "cell_type": "code",
   "execution_count": 25,
   "metadata": {},
   "outputs": [
    {
     "name": "stdout",
     "output_type": "stream",
     "text": [
      "results {\n",
      "  alternatives {\n",
      "  }\n",
      "  result_end_time {\n",
      "    seconds: 7\n",
      "    nanos: 300000000\n",
      "  }\n",
      "  language_code: \"en-us\"\n",
      "}\n",
      "results {\n",
      "  alternatives {\n",
      "  }\n",
      "  result_end_time {\n",
      "    seconds: 18\n",
      "    nanos: 60000000\n",
      "  }\n",
      "  language_code: \"en-us\"\n",
      "}\n",
      "total_billed_time {\n",
      "  seconds: 30\n",
      "}\n",
      "\n"
     ]
    }
   ],
   "source": [
    "print(res)"
   ]
  },
  {
   "cell_type": "code",
   "execution_count": 26,
   "metadata": {},
   "outputs": [
    {
     "name": "stdout",
     "output_type": "stream",
     "text": [
      "Transcript: \n",
      "Transcript: \n"
     ]
    }
   ],
   "source": [
    "for result in res.results:\n",
    "    # 0 - high accurate output\n",
    "    print(\"Transcript: {}\".format(result.alternatives[0].transcript))"
   ]
  },
  {
   "cell_type": "code",
   "execution_count": null,
   "metadata": {},
   "outputs": [],
   "source": []
  }
 ],
 "metadata": {
  "interpreter": {
   "hash": "c293cf963359867951b736ce2fa59369a0c4fad7b1cd8b5c2807fa0e6fb7e263"
  },
  "kernelspec": {
   "display_name": "Python 3.9.6 64-bit",
   "language": "python",
   "name": "python3"
  },
  "language_info": {
   "codemirror_mode": {
    "name": "ipython",
    "version": 3
   },
   "file_extension": ".py",
   "mimetype": "text/x-python",
   "name": "python",
   "nbconvert_exporter": "python",
   "pygments_lexer": "ipython3",
   "version": "3.9.6"
  },
  "orig_nbformat": 4
 },
 "nbformat": 4,
 "nbformat_minor": 2
}
