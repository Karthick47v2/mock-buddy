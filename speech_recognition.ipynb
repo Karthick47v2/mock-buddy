{
 "cells": [
  {
   "cell_type": "code",
   "execution_count": 9,
   "metadata": {},
   "outputs": [],
   "source": [
    "# create env var\n",
    "import os\n",
    "\n",
    "# Speech-to-Text service\n",
    "from google.cloud import speech, storage"
   ]
  },
  {
   "cell_type": "code",
   "execution_count": 10,
   "metadata": {},
   "outputs": [],
   "source": [
    "# api key\n",
    "os.environ['GOOGLE_APPLICATION_CREDENTIALS'] = './secrets/mock-buddy.json'\n",
    "\n",
    "speech_client = speech.SpeechClient()\n",
    "storage_client = storage.Client() "
   ]
  },
  {
   "cell_type": "code",
   "execution_count": 11,
   "metadata": {},
   "outputs": [],
   "source": [
    "# access bucket\n",
    "bucket = storage_client.get_bucket('stt-store')"
   ]
  },
  {
   "cell_type": "code",
   "execution_count": 16,
   "metadata": {},
   "outputs": [],
   "source": [
    "# upload wav to bucket\n",
    "def upload_to_g_bucket(file_name, file_path=None):\n",
    "    try:\n",
    "        blob = bucket.blob(file_name)\n",
    "        blob.upload_from_filename(file_name)\n",
    "        return True\n",
    "    except Exception as e:\n",
    "        print(e)\n",
    "        return False"
   ]
  },
  {
   "cell_type": "code",
   "execution_count": 17,
   "metadata": {},
   "outputs": [
    {
     "data": {
      "text/plain": [
       "True"
      ]
     },
     "execution_count": 17,
     "metadata": {},
     "output_type": "execute_result"
    }
   ],
   "source": [
    "upload_to_g_bucket('rec.wav')"
   ]
  },
  {
   "cell_type": "code",
   "execution_count": 3,
   "metadata": {},
   "outputs": [],
   "source": [
    "# debug audio\n",
    "media_uri = 'gs://stt-store/rec.wav'"
   ]
  },
  {
   "cell_type": "code",
   "execution_count": 4,
   "metadata": {},
   "outputs": [],
   "source": [
    "# instantiate audio var\n",
    "audio = speech.RecognitionAudio(uri=media_uri)\n",
    "\n",
    "# add configs\n",
    "config = speech.RecognitionConfig(\n",
    "    encoding = speech.RecognitionConfig.AudioEncoding.LINEAR16,\n",
    "    sample_rate_hertz=44100,                            # if wav = 44100, audio_channel_count=2 \n",
    "    enable_automatic_punctuation=True,\n",
    "    language_code='en-US',\n",
    "    use_enhanced=True,\n",
    "    audio_channel_count=1,\n",
    "    model='video'\n",
    ")"
   ]
  },
  {
   "cell_type": "code",
   "execution_count": 5,
   "metadata": {},
   "outputs": [],
   "source": [
    "res = speech_client.long_running_recognize(config=config, audio=audio)"
   ]
  },
  {
   "cell_type": "code",
   "execution_count": 6,
   "metadata": {},
   "outputs": [],
   "source": [
    "res = res.result(timeout=1200)"
   ]
  },
  {
   "cell_type": "code",
   "execution_count": 7,
   "metadata": {},
   "outputs": [
    {
     "name": "stdout",
     "output_type": "stream",
     "text": [
      "results {\n",
      "  alternatives {\n",
      "    transcript: \"And we actually sleep a s using that time modules and then we are printing out that we are done sleeping and then we are actually execute that function so it should do all of this. And\"\n",
      "    confidence: 0.7893471717834473\n",
      "  }\n",
      "  result_end_time {\n",
      "    seconds: 23\n",
      "    nanos: 190000000\n",
      "  }\n",
      "  language_code: \"en-us\"\n",
      "}\n",
      "total_billed_time {\n",
      "  seconds: 30\n",
      "}\n",
      "\n"
     ]
    }
   ],
   "source": [
    "print(res)"
   ]
  },
  {
   "cell_type": "code",
   "execution_count": 26,
   "metadata": {},
   "outputs": [
    {
     "name": "stdout",
     "output_type": "stream",
     "text": [
      "Transcript: \n",
      "Transcript: \n"
     ]
    }
   ],
   "source": [
    "for result in res.results:\n",
    "    # 0 - high accurate output\n",
    "    print(\"Transcript: {}\".format(result.alternatives[0].transcript))"
   ]
  },
  {
   "cell_type": "code",
   "execution_count": null,
   "metadata": {},
   "outputs": [],
   "source": []
  }
 ],
 "metadata": {
  "interpreter": {
   "hash": "c293cf963359867951b736ce2fa59369a0c4fad7b1cd8b5c2807fa0e6fb7e263"
  },
  "kernelspec": {
   "display_name": "Python 3.9.6 64-bit",
   "language": "python",
   "name": "python3"
  },
  "language_info": {
   "codemirror_mode": {
    "name": "ipython",
    "version": 3
   },
   "file_extension": ".py",
   "mimetype": "text/x-python",
   "name": "python",
   "nbconvert_exporter": "python",
   "pygments_lexer": "ipython3",
   "version": "3.9.6"
  },
  "orig_nbformat": 4
 },
 "nbformat": 4,
 "nbformat_minor": 2
}
